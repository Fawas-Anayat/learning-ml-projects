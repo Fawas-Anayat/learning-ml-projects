{
 "cells": [
  {
   "cell_type": "markdown",
   "id": "eb90017d",
   "metadata": {},
   "source": [
    "# House Price Prediction Model\n",
    "this project is based on californea housing dataset and have used the linear regression"
   ]
  },
  {
   "cell_type": "markdown",
   "id": "2bfd4518",
   "metadata": {},
   "source": [
    "## importing libraries and modules"
   ]
  },
  {
   "cell_type": "code",
   "execution_count": 1,
   "id": "7609adff",
   "metadata": {},
   "outputs": [],
   "source": [
    "import numpy as np"
   ]
  },
  {
   "cell_type": "code",
   "execution_count": null,
   "id": "bf23bd28",
   "metadata": {},
   "outputs": [],
   "source": []
  },
  {
   "cell_type": "markdown",
   "id": "b5b4d014",
   "metadata": {},
   "source": []
  }
 ],
 "metadata": {
  "kernelspec": {
   "display_name": "base",
   "language": "python",
   "name": "python3"
  },
  "language_info": {
   "codemirror_mode": {
    "name": "ipython",
    "version": 3
   },
   "file_extension": ".py",
   "mimetype": "text/x-python",
   "name": "python",
   "nbconvert_exporter": "python",
   "pygments_lexer": "ipython3",
   "version": "3.12.7"
  }
 },
 "nbformat": 4,
 "nbformat_minor": 5
}
